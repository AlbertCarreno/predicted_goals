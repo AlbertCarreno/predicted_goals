{
 "cells": [
  {
   "cell_type": "code",
   "execution_count": 1,
   "id": "ae14c4fc-098c-4e63-8dfe-cec162357211",
   "metadata": {},
   "outputs": [
    {
     "name": "stderr",
     "output_type": "stream",
     "text": [
      "/opt/anaconda3/envs/ml_env/lib/python3.11/site-packages/tqdm/auto.py:21: TqdmWarning: IProgress not found. Please update jupyter and ipywidgets. See https://ipywidgets.readthedocs.io/en/stable/user_install.html\n",
      "  from .autonotebook import tqdm as notebook_tqdm\n"
     ]
    }
   ],
   "source": [
    "# loading in required libraries\n",
    "import numpy as np\n",
    "import pandas as pd\n",
    "import os\n",
    "import glob\n",
    "import statsmodels.api as sm\n",
    "import matplotlib.pyplot as plt\n",
    "import seaborn as sns\n",
    "from sklearn.pipeline import Pipeline\n",
    "from sklearn.ensemble import RandomForestRegressor\n",
    "from sklearn.model_selection import train_test_split, TimeSeriesSplit, GridSearchCV\n",
    "from sklearn.metrics import mean_squared_error, mean_absolute_error, r2_score\n",
    "from sklearn.preprocessing import StandardScaler\n",
    "import shap"
   ]
  },
  {
   "cell_type": "code",
   "execution_count": 4,
   "id": "431e1cc9-79a5-4c2d-8b9c-1bef46b28cce",
   "metadata": {},
   "outputs": [],
   "source": [
    "# reading in skater data\n",
    "skaters_21 = pd.read_csv('skaters_22.csv')\n",
    "skaters_22 = pd.read_csv('skaters_23.csv')\n",
    "skaters_23 = pd.read_csv('skaters_24.csv')\n",
    "skaters_24 = pd.read_csv('skaters_25.csv')"
   ]
  },
  {
   "cell_type": "code",
   "execution_count": 5,
   "id": "820a66e0-7cf0-4d48-8660-021afe377fba",
   "metadata": {},
   "outputs": [
    {
     "name": "stderr",
     "output_type": "stream",
     "text": [
      "/opt/anaconda3/envs/ml_env/lib/python3.11/site-packages/openpyxl/worksheet/_reader.py:329: UserWarning: Unknown extension is not supported and will be removed\n",
      "  warn(msg)\n",
      "/opt/anaconda3/envs/ml_env/lib/python3.11/site-packages/openpyxl/worksheet/_reader.py:329: UserWarning: Conditional Formatting extension is not supported and will be removed\n",
      "  warn(msg)\n"
     ]
    }
   ],
   "source": [
    "# reading in team and player GAR data as well as power play data\n",
    "player_gar = pd.read_excel('gar_stats.xlsx', sheet_name = 'GAR by Tm', header = 1)\n",
    "team_gar = pd.read_excel('gar_stats.xlsx', sheet_name = 'Tm GAR', header = 1)\n",
    "pp_percent = pd.read_excel('gar_stats.xlsx', sheet_name = 'Tm Stats')"
   ]
  },
  {
   "cell_type": "code",
   "execution_count": 6,
   "id": "d790aff5-627a-4a77-87fb-42c1319c2d73",
   "metadata": {},
   "outputs": [],
   "source": [
    "# filtering gar data\n",
    "filtered = ((player_gar['year_ID'] > 2021) & (player_gar['pos'] != 'G'))\n",
    "player_gar = player_gar[filtered]\n",
    "team_gar = team_gar[team_gar['Year'] > 2021]"
   ]
  },
  {
   "cell_type": "code",
   "execution_count": 8,
   "id": "8ecf9055-3936-4b30-9341-05064b4d1a9d",
   "metadata": {},
   "outputs": [],
   "source": [
    "# row binding all the skater data\n",
    "combined_skaters = pd.concat([skaters_21, skaters_22, skaters_23, skaters_24], ignore_index = True)\n",
    "combined_skaters['season'] = combined_skaters['season'] + 1"
   ]
  },
  {
   "cell_type": "code",
   "execution_count": 61,
   "id": "c9a1602b-c6a6-4d66-a8c5-c646055ccc2c",
   "metadata": {
    "scrolled": true
   },
   "outputs": [],
   "source": [
    "# selecting reasonable variables to include based on domain knowledge\n",
    "skater_vars = ['season', 'name', 'team', 'situation', 'games_played', 'icetime', 'I_F_xGoals',\n",
    " 'I_F_xRebounds', 'I_F_shotsOnGoal',  'I_F_goals', 'I_F_rebounds', 'I_F_reboundGoals',\n",
    " 'I_F_lowDangerShots', 'I_F_mediumDangerShots','I_F_highDangerShots', 'I_F_lowDangerGoals',\n",
    " 'I_F_mediumDangerGoals','I_F_highDangerGoals', 'I_F_oZoneShiftStarts']\n",
    "reduced_skaters = combined_skaters[skater_vars]"
   ]
  },
  {
   "cell_type": "code",
   "execution_count": 62,
   "id": "e7476052-34ad-447a-ab34-ab786d635558",
   "metadata": {},
   "outputs": [
    {
     "ename": "KeyError",
     "evalue": "'year_ID'",
     "output_type": "error",
     "traceback": [
      "\u001b[31m---------------------------------------------------------------------------\u001b[39m",
      "\u001b[31mKeyError\u001b[39m                                  Traceback (most recent call last)",
      "\u001b[36mFile \u001b[39m\u001b[32m/opt/anaconda3/envs/ml_env/lib/python3.11/site-packages/pandas/core/indexes/base.py:3812\u001b[39m, in \u001b[36mIndex.get_loc\u001b[39m\u001b[34m(self, key)\u001b[39m\n\u001b[32m   3811\u001b[39m \u001b[38;5;28;01mtry\u001b[39;00m:\n\u001b[32m-> \u001b[39m\u001b[32m3812\u001b[39m     \u001b[38;5;28;01mreturn\u001b[39;00m \u001b[38;5;28;43mself\u001b[39;49m\u001b[43m.\u001b[49m\u001b[43m_engine\u001b[49m\u001b[43m.\u001b[49m\u001b[43mget_loc\u001b[49m\u001b[43m(\u001b[49m\u001b[43mcasted_key\u001b[49m\u001b[43m)\u001b[49m\n\u001b[32m   3813\u001b[39m \u001b[38;5;28;01mexcept\u001b[39;00m \u001b[38;5;167;01mKeyError\u001b[39;00m \u001b[38;5;28;01mas\u001b[39;00m err:\n",
      "\u001b[36mFile \u001b[39m\u001b[32mpandas/_libs/index.pyx:167\u001b[39m, in \u001b[36mpandas._libs.index.IndexEngine.get_loc\u001b[39m\u001b[34m()\u001b[39m\n",
      "\u001b[36mFile \u001b[39m\u001b[32mpandas/_libs/index.pyx:196\u001b[39m, in \u001b[36mpandas._libs.index.IndexEngine.get_loc\u001b[39m\u001b[34m()\u001b[39m\n",
      "\u001b[36mFile \u001b[39m\u001b[32mpandas/_libs/hashtable_class_helper.pxi:7088\u001b[39m, in \u001b[36mpandas._libs.hashtable.PyObjectHashTable.get_item\u001b[39m\u001b[34m()\u001b[39m\n",
      "\u001b[36mFile \u001b[39m\u001b[32mpandas/_libs/hashtable_class_helper.pxi:7096\u001b[39m, in \u001b[36mpandas._libs.hashtable.PyObjectHashTable.get_item\u001b[39m\u001b[34m()\u001b[39m\n",
      "\u001b[31mKeyError\u001b[39m: 'year_ID'",
      "\nThe above exception was the direct cause of the following exception:\n",
      "\u001b[31mKeyError\u001b[39m                                  Traceback (most recent call last)",
      "\u001b[36mCell\u001b[39m\u001b[36m \u001b[39m\u001b[32mIn[62]\u001b[39m\u001b[32m, line 1\u001b[39m\n\u001b[32m----> \u001b[39m\u001b[32m1\u001b[39m pp_percent = pp_percent[\u001b[43mpp_percent\u001b[49m\u001b[43m[\u001b[49m\u001b[33;43m'\u001b[39;49m\u001b[33;43myear_ID\u001b[39;49m\u001b[33;43m'\u001b[39;49m\u001b[43m]\u001b[49m > \u001b[32m2021\u001b[39m]\n\u001b[32m      2\u001b[39m pp_vars = [\u001b[33m'\u001b[39m\u001b[33myear_ID\u001b[39m\u001b[33m'\u001b[39m, \u001b[33m'\u001b[39m\u001b[33mteam1\u001b[39m\u001b[33m'\u001b[39m, \u001b[33m'\u001b[39m\u001b[33mPP\u001b[39m\u001b[33m%\u001b[39m\u001b[33m'\u001b[39m]\n\u001b[32m      3\u001b[39m pp_percent = pp_percent[pp_vars]\n",
      "\u001b[36mFile \u001b[39m\u001b[32m/opt/anaconda3/envs/ml_env/lib/python3.11/site-packages/pandas/core/frame.py:4107\u001b[39m, in \u001b[36mDataFrame.__getitem__\u001b[39m\u001b[34m(self, key)\u001b[39m\n\u001b[32m   4105\u001b[39m \u001b[38;5;28;01mif\u001b[39;00m \u001b[38;5;28mself\u001b[39m.columns.nlevels > \u001b[32m1\u001b[39m:\n\u001b[32m   4106\u001b[39m     \u001b[38;5;28;01mreturn\u001b[39;00m \u001b[38;5;28mself\u001b[39m._getitem_multilevel(key)\n\u001b[32m-> \u001b[39m\u001b[32m4107\u001b[39m indexer = \u001b[38;5;28;43mself\u001b[39;49m\u001b[43m.\u001b[49m\u001b[43mcolumns\u001b[49m\u001b[43m.\u001b[49m\u001b[43mget_loc\u001b[49m\u001b[43m(\u001b[49m\u001b[43mkey\u001b[49m\u001b[43m)\u001b[49m\n\u001b[32m   4108\u001b[39m \u001b[38;5;28;01mif\u001b[39;00m is_integer(indexer):\n\u001b[32m   4109\u001b[39m     indexer = [indexer]\n",
      "\u001b[36mFile \u001b[39m\u001b[32m/opt/anaconda3/envs/ml_env/lib/python3.11/site-packages/pandas/core/indexes/base.py:3819\u001b[39m, in \u001b[36mIndex.get_loc\u001b[39m\u001b[34m(self, key)\u001b[39m\n\u001b[32m   3814\u001b[39m     \u001b[38;5;28;01mif\u001b[39;00m \u001b[38;5;28misinstance\u001b[39m(casted_key, \u001b[38;5;28mslice\u001b[39m) \u001b[38;5;129;01mor\u001b[39;00m (\n\u001b[32m   3815\u001b[39m         \u001b[38;5;28misinstance\u001b[39m(casted_key, abc.Iterable)\n\u001b[32m   3816\u001b[39m         \u001b[38;5;129;01mand\u001b[39;00m \u001b[38;5;28many\u001b[39m(\u001b[38;5;28misinstance\u001b[39m(x, \u001b[38;5;28mslice\u001b[39m) \u001b[38;5;28;01mfor\u001b[39;00m x \u001b[38;5;129;01min\u001b[39;00m casted_key)\n\u001b[32m   3817\u001b[39m     ):\n\u001b[32m   3818\u001b[39m         \u001b[38;5;28;01mraise\u001b[39;00m InvalidIndexError(key)\n\u001b[32m-> \u001b[39m\u001b[32m3819\u001b[39m     \u001b[38;5;28;01mraise\u001b[39;00m \u001b[38;5;167;01mKeyError\u001b[39;00m(key) \u001b[38;5;28;01mfrom\u001b[39;00m\u001b[38;5;250m \u001b[39m\u001b[34;01merr\u001b[39;00m\n\u001b[32m   3820\u001b[39m \u001b[38;5;28;01mexcept\u001b[39;00m \u001b[38;5;167;01mTypeError\u001b[39;00m:\n\u001b[32m   3821\u001b[39m     \u001b[38;5;66;03m# If we have a listlike key, _check_indexing_error will raise\u001b[39;00m\n\u001b[32m   3822\u001b[39m     \u001b[38;5;66;03m#  InvalidIndexError. Otherwise we fall through and re-raise\u001b[39;00m\n\u001b[32m   3823\u001b[39m     \u001b[38;5;66;03m#  the TypeError.\u001b[39;00m\n\u001b[32m   3824\u001b[39m     \u001b[38;5;28mself\u001b[39m._check_indexing_error(key)\n",
      "\u001b[31mKeyError\u001b[39m: 'year_ID'"
     ]
    }
   ],
   "source": [
    "# filtering power play data\n",
    "pp_percent = pp_percent[pp_percent['year_ID'] > 2021]\n",
    "pp_vars = ['year_ID', 'team1', 'PP%']\n",
    "pp_percent = pp_percent[pp_vars]"
   ]
  },
  {
   "cell_type": "code",
   "execution_count": 11,
   "id": "73530873-fd20-4962-b4b0-198c12f6932d",
   "metadata": {},
   "outputs": [],
   "source": [
    "# filter player gar data\n",
    "player_gar_vars = ['player_name', 'year_ID', 'age', 'team_ID', 'pos', 'GP', 'PPG', 'S%', 'OFF', 'GAR']\n",
    "reduced_pgar = player_gar[player_gar_vars]"
   ]
  },
  {
   "cell_type": "code",
   "execution_count": 12,
   "id": "803a542d-b895-4fef-93a1-d6be818518a4",
   "metadata": {},
   "outputs": [
    {
     "name": "stderr",
     "output_type": "stream",
     "text": [
      "/var/folders/ws/n_fmk_5j2xn553m9_3d3glwc0000gn/T/ipykernel_80558/998210531.py:4: SettingWithCopyWarning: \n",
      "A value is trying to be set on a copy of a slice from a DataFrame\n",
      "\n",
      "See the caveats in the documentation: https://pandas.pydata.org/pandas-docs/stable/user_guide/indexing.html#returning-a-view-versus-a-copy\n",
      "  reduced_tgar.rename(columns = {'Off.':'Offensive GAR', 'Total':'Total GAR'}, inplace = True)\n",
      "/var/folders/ws/n_fmk_5j2xn553m9_3d3glwc0000gn/T/ipykernel_80558/998210531.py:5: SettingWithCopyWarning: \n",
      "A value is trying to be set on a copy of a slice from a DataFrame\n",
      "\n",
      "See the caveats in the documentation: https://pandas.pydata.org/pandas-docs/stable/user_guide/indexing.html#returning-a-view-versus-a-copy\n",
      "  reduced_tgar.rename(columns = {'Tm':'Team'}, inplace = True)\n"
     ]
    }
   ],
   "source": [
    "# organized and filtering team gar data\n",
    "team_gar.columns.tolist()\n",
    "tgar_vars = ['Year', 'Tm', 'Off.', 'Total']\n",
    "reduced_tgar = team_gar[tgar_vars]\n",
    "reduced_tgar.rename(columns = {'Off.':'Offensive GAR', 'Total':'Total GAR'}, inplace = True)\n",
    "reduced_tgar.rename(columns = {'Tm':'Team'}, inplace = True)"
   ]
  },
  {
   "cell_type": "code",
   "execution_count": 63,
   "id": "2327cd12-22f7-43dc-9665-62a1f4444742",
   "metadata": {
    "scrolled": true
   },
   "outputs": [
    {
     "name": "stderr",
     "output_type": "stream",
     "text": [
      "/var/folders/ws/n_fmk_5j2xn553m9_3d3glwc0000gn/T/ipykernel_80558/481354738.py:2: SettingWithCopyWarning: \n",
      "A value is trying to be set on a copy of a slice from a DataFrame.\n",
      "Try using .loc[row_indexer,col_indexer] = value instead\n",
      "\n",
      "See the caveats in the documentation: https://pandas.pydata.org/pandas-docs/stable/user_guide/indexing.html#returning-a-view-versus-a-copy\n",
      "  reduced_skaters.loc[pp_filter, 'avg_pp_toi'] = (\n",
      "/var/folders/ws/n_fmk_5j2xn553m9_3d3glwc0000gn/T/ipykernel_80558/481354738.py:7: SettingWithCopyWarning: \n",
      "A value is trying to be set on a copy of a slice from a DataFrame.\n",
      "Try using .loc[row_indexer,col_indexer] = value instead\n",
      "\n",
      "See the caveats in the documentation: https://pandas.pydata.org/pandas-docs/stable/user_guide/indexing.html#returning-a-view-versus-a-copy\n",
      "  reduced_skaters['avg_pp_toi'] = (\n"
     ]
    }
   ],
   "source": [
    "# extracting avg power play ice time for all players and adjusting counting stats to per 60 min rate\n",
    "pp_filter = reduced_skaters['situation'] == '5on4'\n",
    "reduced_skaters.loc[pp_filter, 'avg_pp_toi'] = (\n",
    "    reduced_skaters.loc[pp_filter, 'icetime']\n",
    ") / reduced_skaters.loc[pp_filter, 'games_played']\n",
    "\n",
    "\n",
    "reduced_skaters['avg_pp_toi'] = (\n",
    "    reduced_skaters\n",
    "        .groupby(['name', 'season'])['avg_pp_toi']\n",
    "        .transform('first')          \n",
    ")\n",
    "per60_cols = [\n",
    "    'I_F_xGoals', 'I_F_xRebounds', 'I_F_shotsOnGoal', 'I_F_goals',\n",
    "    'I_F_rebounds', 'I_F_reboundGoals', 'I_F_lowDangerShots',\n",
    "    'I_F_mediumDangerShots', 'I_F_highDangerShots',\n",
    "    'I_F_lowDangerGoals', 'I_F_mediumDangerGoals', 'I_F_highDangerGoals'\n",
    "]\n",
    "\n",
    "filtered = (reduced_skaters['situation'] == 'all') & (reduced_skaters['icetime'] > 29940)\n",
    "\n",
    "# Apply the per-60 transformation to selected rows and columns\n",
    "reduced_skaters.loc[filtered, per60_cols] = (\n",
    "    reduced_skaters.loc[filtered, per60_cols]\n",
    "    .div(reduced_skaters.loc[filtered, 'icetime'], axis=0)\n",
    "    .mul(3600)\n",
    ")                                                                   \n",
    "reduced_skaters = reduced_skaters[filtered]"
   ]
  },
  {
   "cell_type": "code",
   "execution_count": 17,
   "id": "f2bce221-1f02-4ed4-b739-dff9b4bb0752",
   "metadata": {},
   "outputs": [
    {
     "name": "stderr",
     "output_type": "stream",
     "text": [
      "/var/folders/ws/n_fmk_5j2xn553m9_3d3glwc0000gn/T/ipykernel_80558/2179881939.py:1: SettingWithCopyWarning: \n",
      "A value is trying to be set on a copy of a slice from a DataFrame\n",
      "\n",
      "See the caveats in the documentation: https://pandas.pydata.org/pandas-docs/stable/user_guide/indexing.html#returning-a-view-versus-a-copy\n",
      "  reduced_pgar.rename(columns = {'year_ID':'Year'}, inplace = True)\n"
     ]
    }
   ],
   "source": [
    "# renaming and organizing datasets then creating one big players dataset with gar data\n",
    "pp_percent.rename(columns = {'year_ID':'Year', 'team1':'Team'}, inplace = True)\n",
    "reduced_pgar.rename(columns = {'year_ID':'Year', 'player_name':'name'}, inplace = True)\n",
    "team_stats = pd.merge(pp_percent, reduced_tgar, how = 'inner', on = ['Year', 'Team'])\n",
    "team_stats.rename(columns = {'Offensive GRA':'Offensive GAR', 'Total GRA':'Total GAR'}, inplace = True)\n",
    "reduced_skaters.rename(columns = {'season':'Year'}, inplace = True)\n",
    "\n",
    "player_stats = pd.merge(reduced_skaters, reduced_pgar, how = 'inner', on = ['name', 'Year'])"
   ]
  },
  {
   "cell_type": "code",
   "execution_count": null,
   "id": "014fe198-a322-4217-9818-53bc944f1a8e",
   "metadata": {},
   "outputs": [],
   "source": []
  },
  {
   "cell_type": "code",
   "execution_count": 68,
   "id": "947d2934-c518-43af-8cb9-c6c394ba7861",
   "metadata": {},
   "outputs": [],
   "source": [
    "# creating helper function to calculate weighted statistics\n",
    "def weighted_avg(series, weights):\n",
    "    return np.average(series, weights=weights) if weights.sum() > 0 else np.nan\n",
    "\n",
    "# calculating weighted statistics for all stats from the player gar dataset\n",
    "def collapse_group(group):\n",
    "    main_row = group.loc[group['GP'].idxmax()].copy()\n",
    "\n",
    "    main_row['S%'] = weighted_avg(group['S%'], group['GP'])\n",
    "    main_row['OFF'] = weighted_avg(group['OFF'], group['GP'])\n",
    "    main_row['GAR'] = weighted_avg(group['GAR'], group['GP'])\n",
    "    main_row['avg_pp_toi'] = weighted_avg(group['avg_pp_toi'], group['GP'])\n",
    "    main_row['GP'] = group['GP'].sum()\n",
    "    main_row['PPG'] = group['PPG'].sum()\n",
    "\n",
    "    return main_row\n",
    "    \n",
    "collapsed = (\n",
    "    player_stats\n",
    "    .groupby(['name', 'Year'], as_index=False)\n",
    "    .apply(collapse_group, include_groups=False)\n",
    "    .reset_index(drop=True)\n",
    ")"
   ]
  },
  {
   "cell_type": "code",
   "execution_count": 71,
   "id": "6daa2eac-c381-4dfe-99e1-40381fb8c429",
   "metadata": {},
   "outputs": [],
   "source": [
    "# dropping unnecessary columns from dataset and renaming some others\n",
    "collapsed = collapsed.drop(['GP', 'team_ID', 'situation'], axis = 1)\n",
    "collapsed.rename(columns = {'team':'Team'}, inplace = True)\n",
    "player_df  = collapsed.sort_values(['name', 'Year']).reset_index(drop = True)\n",
    "team_df    = team_stats.rename(columns={'Total GAR': 'TeamGAR'})  \n",
    "\n",
    "# creating bianry variable that tells us whether a player is on a new team\n",
    "player_df['prev_team'] = (\n",
    "    player_df.groupby('name')['Team'].shift(1)\n",
    ")\n",
    "player_df['new_team'] = (player_df['Team'] != player_df['prev_team']).astype(int)\n",
    "player_df['prev_year'] = player_df['Year'] - 1\n",
    "\n",
    "# Merging previous and current team data(helpful for traded players)\n",
    "team_prev = (\n",
    "    team_df.rename(columns={'PP%':'curr_team_pp_prev',\n",
    "                            'TeamGAR':'curr_team_gar_prev'})\n",
    ")\n",
    "player_df = player_df.merge(\n",
    "    team_prev,\n",
    "    left_on=['prev_year','Team'],\n",
    "    right_on=['Year','Team'],\n",
    "    how='left'\n",
    ").drop(columns=['Year_y']).rename(columns={'Year_x':'Year'})\n",
    "team_prev2 = (\n",
    "    team_df.rename(columns={'Team':'prev_team',\n",
    "                            'PP%':'prev_team_pp_prev',\n",
    "                            'TeamGAR':'prev_team_gar_prev'})\n",
    ")\n",
    "\n",
    "player_df = player_df.merge(\n",
    "    team_prev2,\n",
    "    left_on=['prev_year','prev_team'],\n",
    "    right_on=['Year','prev_team'],\n",
    "    how='left'\n",
    ").drop(columns=['Year_y']).rename(columns={'Year_x':'Year'})\n",
    "\n",
    "# calculating differences in player and team stats before and after the move if players were moved\n",
    "player_df['pp_diff']  = np.where(\n",
    "    player_df['new_team'] == 1,\n",
    "    player_df['curr_team_pp_prev'] - player_df['prev_team_pp_prev'],\n",
    "    0\n",
    ")\n",
    "\n",
    "player_df['gar_diff'] = np.where(\n",
    "    player_df['new_team'] == 1,\n",
    "    player_df['curr_team_gar_prev'] - player_df['prev_team_gar_prev'],\n",
    "    0\n",
    ")\n",
    "player_df.drop(columns = ['prev_year',\n",
    "                        'curr_team_pp_prev','prev_team_pp_prev',\n",
    "                        'curr_team_gar_prev','prev_team_gar_prev'],\n",
    "               inplace = True)\n",
    "player_df.drop(columns = ['prev_team'], inplace = True)"
   ]
  },
  {
   "cell_type": "code",
   "execution_count": 73,
   "id": "cc345fc8-f5c3-4d67-aba1-26d496728e48",
   "metadata": {},
   "outputs": [],
   "source": [
    "# creating the training data and shifting statistics one year ahead for the outcome variable\n",
    "training_df = player_df.fillna(0)\n",
    "training_df = player_df.sort_values(['name', 'Year']).reset_index(drop = True)\n",
    "training_df['SeasonGoals'] = (training_df['I_F_goals'] * training_df['icetime'] / 3600).round(0).astype(int)\n",
    "\n",
    "training_df['Goals_next'] = (\n",
    "    training_df.groupby('name')['SeasonGoals'].shift(-1)   \n",
    ")\n",
    "training_df['icetime_next'] = (\n",
    "    training_df.groupby('name')['icetime'].shift(-1)   \n",
    ")\n",
    "training_df['G_per60_next'] = training_df['Goals_next'] / (training_df['icetime_next'] / 60)\n",
    "\n",
    "# Creating \"finishing skill\" metric to evaluate how well a player finishes their opportunities\n",
    "training_df['fin_skill'] = training_df['SeasonGoals'] - training_df['I_F_xGoals']\n",
    "training_df['fin_skill_3yr'] = (\n",
    "    training_df\n",
    "      .groupby('name')['fin_skill']\n",
    "      .rolling(3, min_periods=1)\n",
    "      .mean()\n",
    "      .reset_index(level=0, drop=True)\n",
    ")\n",
    "training_df = training_df[~training_df['Goals_next'].isna()].copy()"
   ]
  },
  {
   "cell_type": "code",
   "execution_count": 74,
   "id": "1b632b13-c270-43b8-8d0d-43decd45eb44",
   "metadata": {},
   "outputs": [],
   "source": [
    "# copy of the training data without removing final year of the data(used later for 25-26 predictions)\n",
    "model_df = player_df.sort_values(['name', 'Year']).reset_index(drop=True)\n",
    "model_df['SeasonGoals'] = (model_df['I_F_goals'] * model_df['icetime'] / 3600).round(0).astype(int)\n",
    "# shift each player’s goal total forward one row\n",
    "model_df['Goals_next'] = (\n",
    "    model_df.groupby('name')['SeasonGoals'].shift(-1)   # −1 because later row = next season\n",
    ")\n",
    "model_df['icetime_next'] = (\n",
    "    model_df.groupby('name')['icetime'].shift(-1)   # −1 because later row = next season\n",
    ")\n",
    "model_df['G_per60_next'] = model_df['Goals_next'] / (model_df['icetime_next'] / 60)\n",
    "model_df['fin_skill'] = model_df['SeasonGoals'] - model_df['I_F_xGoals']\n",
    "model_df['fin_skill_3yr'] = (\n",
    "    model_df\n",
    "      .groupby('name')['fin_skill']\n",
    "      .rolling(3, min_periods=1)\n",
    "      .mean()\n",
    "      .reset_index(level=0, drop=True)\n",
    ")"
   ]
  },
  {
   "cell_type": "code",
   "execution_count": 75,
   "id": "216f7847-48aa-4cc7-9a1f-755d72e665a3",
   "metadata": {},
   "outputs": [],
   "source": [
    "# organizing training data and defining variables for the model to take in\n",
    "rate_cols = ['I_F_xGoals', 'I_F_xRebounds', 'I_F_shotsOnGoal', 'I_F_goals', 'I_F_rebounds',\n",
    "             'I_F_reboundGoals','I_F_lowDangerShots', 'I_F_mediumDangerShots', 'I_F_highDangerShots',\n",
    "             'I_F_lowDangerGoals', 'I_F_mediumDangerGoals', 'I_F_highDangerGoals',]  \n",
    "context   = ['games_played', 'icetime', 'new_team', 'pp_diff', 'gar_diff', 'avg_pp_toi', 'age', 'S%', 'OFF', 'GAR',\n",
    "            'fin_skill_3yr']\n",
    "X = training_df[rate_cols + context]\n",
    "y = training_df['Goals_next']\n",
    "y_rate = training_df['G_per60_next']\n",
    "y_toi  = training_df['icetime_next']"
   ]
  },
  {
   "cell_type": "code",
   "execution_count": 76,
   "id": "fa55b3ba-1180-4fc4-9334-21050e00ffca",
   "metadata": {},
   "outputs": [],
   "source": [
    "# filtering data by year\n",
    "train_mask  = training_df['Year'] < 2024\n",
    "X_train, y_train = X[train_mask], y[train_mask]\n",
    "X_val, y_val = X[~train_mask], y[~train_mask]"
   ]
  },
  {
   "cell_type": "code",
   "execution_count": 77,
   "id": "f085cc83-3142-4d20-b08c-2c8b19b1354c",
   "metadata": {},
   "outputs": [
    {
     "name": "stdout",
     "output_type": "stream",
     "text": [
      "Fitting 5 folds for each of 54 candidates, totalling 270 fits\n"
     ]
    }
   ],
   "source": [
    "# fitting random forest model to find the best fit for predicting goals per 60 rate\n",
    "model   = RandomForestRegressor(random_state = 42, n_jobs = -1)\n",
    "\n",
    "param_grid = {\n",
    "    'n_estimators': [400, 800],\n",
    "    'max_depth': [None, 15, 25],\n",
    "    'min_samples_leaf': [1, 3, 5],\n",
    "    'max_features': ['sqrt', 0.3, 0.6],\n",
    "}\n",
    "\n",
    "tscv = TimeSeriesSplit(n_splits=5)  # keeps chronological order\n",
    "\n",
    "search = GridSearchCV(\n",
    "    model, param_grid,\n",
    "    cv = tscv,\n",
    "    scoring ='neg_root_mean_squared_error',\n",
    "    verbose=1, n_jobs=-1\n",
    ").fit(X_train, y_rate[train_mask])\n",
    "rate_rf = search.best_estimator_"
   ]
  },
  {
   "cell_type": "code",
   "execution_count": 78,
   "id": "48aeb909-4466-4307-92db-1606ee613501",
   "metadata": {},
   "outputs": [
    {
     "name": "stdout",
     "output_type": "stream",
     "text": [
      "                  name team  goals_2026\n",
      "76       Alex Ovechkin  WSH        43.2\n",
      "1546  Nathan MacKinnon  COL        39.4\n",
      "1552       Nazem Kadri  CGY        38.8\n",
      "1264    Leon Draisaitl  EDM        38.7\n",
      "198    Auston Matthews  TOR        38.4\n",
      "1630   Nikita Kucherov  TBL        37.5\n",
      "1198       Kevin Fiala  LAK        37.4\n",
      "2039     Tage Thompson  BUF        36.9\n",
      "732     Filip Forsberg  NSH        36.6\n",
      "185     Artemi Panarin  NYR        36.3\n",
      "262      Brady Tkachuk  OTT        36.3\n",
      "1049      John Tavares  TOR        36.0\n",
      "881      Jake Guentzel  TBL        35.9\n",
      "1418   Matthew Tkachuk  FLA        35.8\n",
      "1394        Matt Boldy  MIN        35.8\n"
     ]
    }
   ],
   "source": [
    "# fitting gradient boosting quantile model for predicting ice time and using those predictions along\n",
    "# with goals per 60 predictions from the rf model to make total goal predictions\n",
    "from sklearn.impute import SimpleImputer\n",
    "from sklearn.pipeline import make_pipeline\n",
    "from sklearn.ensemble import GradientBoostingRegressor\n",
    "toi_gbq = make_pipeline(\n",
    "    SimpleImputer(strategy=\"median\"),         \n",
    "    GradientBoostingRegressor(\n",
    "        loss='quantile',\n",
    "        alpha=0.88,\n",
    "        n_estimators=600,\n",
    "        max_depth=3,\n",
    "        learning_rate=0.05,\n",
    "        random_state=42)\n",
    ")\n",
    "\n",
    "mask_24_25   = model_df['Year'] == 2025\n",
    "features_24_25 = model_df.loc[mask_24_25, rate_cols + context]\n",
    "toi_gbq.fit(X_train, y_toi[train_mask])\n",
    "toi_pred = toi_gbq.predict(features_24_25)\n",
    "g60_pred  = rate_rf.predict(features_24_25)      \n",
    "total_pred = g60_pred * toi_pred / 60            \n",
    "latest_pred = (\n",
    "    pd.DataFrame({\n",
    "        'name'  : model_df.loc[mask_24_25, 'name'],\n",
    "        'team'  : model_df.loc[mask_24_25, 'Team'],\n",
    "        'goals_2026' : total_pred.round(1)\n",
    "    })\n",
    "    .sort_values('goals_2026', ascending=False)\n",
    ")\n",
    "\n",
    "print(latest_pred.head(15))"
   ]
  },
  {
   "cell_type": "markdown",
   "id": "fee73b37-f613-41aa-beb3-874348944d21",
   "metadata": {},
   "source": [
    "g60_pred = rate_rf.predict(X_val)\n",
    "toi_pred = toi_gbq.predict(X_val)\n",
    "total_pred = g60_pred * toi_pred / 60\n",
    "\n",
    "rmse = np.sqrt(mean_squared_error(y_val, total_pred))\n",
    "print(\"Rate×TOI RMSE:\", rmse)"
   ]
  },
  {
   "cell_type": "code",
   "execution_count": 269,
   "id": "eb6b7258-72ff-4115-8c6d-cfee63c39682",
   "metadata": {},
   "outputs": [
    {
     "name": "stdout",
     "output_type": "stream",
     "text": [
      "   season      rmse       mae\n",
      "0    2023  7.302386  5.634878\n",
      "1    2024  6.914922  5.289626\n",
      "Mean RMSE: 7.108654194369842\n"
     ]
    }
   ],
   "source": [
    "# Evaluating the model on individual seasons in the data\n",
    "seasons = sorted(training_df['Year'].unique())\n",
    "\n",
    "records = []                                   \n",
    "for cut in seasons[:-1]:                       \n",
    "    train_mask = training_df['Year'] <= cut\n",
    "    test_mask  = training_df['Year'] == cut + 1\n",
    "\n",
    "    # Re‑fit rate + TOI models on data ≤ cut\n",
    "    rate_rf.fit(X[train_mask],  y_rate[train_mask])\n",
    "    toi_gbq.fit(X[train_mask], y_toi[train_mask])  \n",
    "\n",
    "    # Predict totals for season cut+1\n",
    "    g60  = rate_rf.predict(X[test_mask])\n",
    "    toi  = toi_gbq.predict(X[test_mask])\n",
    "    pred = g60 * toi / 60\n",
    "\n",
    "    # Evaluating rmse and mae\n",
    "    rmse = np.sqrt(mean_squared_error(y[test_mask], pred))\n",
    "    mae  = mean_absolute_error(y[test_mask], pred)\n",
    "\n",
    "    records.append({'season': cut+1, 'rmse': rmse, 'mae': mae})\n",
    "\n",
    "cv_df = pd.DataFrame(records)\n",
    "print(cv_df)\n",
    "print(\"Mean RMSE:\", cv_df['rmse'].mean())"
   ]
  },
  {
   "cell_type": "code",
   "execution_count": 270,
   "id": "a93a52e7-d64c-4d37-9ae8-abe83f71700f",
   "metadata": {},
   "outputs": [
    {
     "name": "stdout",
     "output_type": "stream",
     "text": [
      "RMSE lift vs naive: 5.1%\n"
     ]
    }
   ],
   "source": [
    "naive = training_df.loc[test_mask, 'SeasonGoals']      # last‑season goals\n",
    "naive_rmse = np.sqrt(mean_squared_error(y[test_mask], naive))\n",
    "lift = (naive_rmse - rmse) / naive_rmse * 100\n",
    "print(f\"RMSE lift vs naive: {lift:.1f}%\")"
   ]
  },
  {
   "cell_type": "code",
   "execution_count": null,
   "id": "d67de6a6-8dd3-4ef8-a640-45d51475a43d",
   "metadata": {},
   "outputs": [],
   "source": [
    "# variable importance for goals per 60 model\n",
    "importances = pd.Series(rate_rf.feature_importances_, index=X.columns).sort_values(ascending=False)\n",
    "print(importances.head(15))"
   ]
  },
  {
   "cell_type": "code",
   "execution_count": null,
   "id": "fe513f4f-5e74-4feb-a6a5-86e7fc427b07",
   "metadata": {},
   "outputs": [],
   "source": [
    "# variable importance for icetime model\n",
    "importances = pd.Series(toi_rf.feature_importances_, index=X.columns).sort_values(ascending=False)\n",
    "print(importances.head(15))"
   ]
  }
 ],
 "metadata": {
  "kernelspec": {
   "display_name": "Python 3 (ipykernel)",
   "language": "python",
   "name": "python3"
  },
  "language_info": {
   "codemirror_mode": {
    "name": "ipython",
    "version": 3
   },
   "file_extension": ".py",
   "mimetype": "text/x-python",
   "name": "python",
   "nbconvert_exporter": "python",
   "pygments_lexer": "ipython3",
   "version": "3.11.13"
  }
 },
 "nbformat": 4,
 "nbformat_minor": 5
}
